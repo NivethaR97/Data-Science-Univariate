{
 "cells": [
  {
   "cell_type": "code",
   "execution_count": 1,
   "id": "7f66cc94",
   "metadata": {},
   "outputs": [],
   "source": [
    "import pandas as pd"
   ]
  },
  {
   "cell_type": "code",
   "execution_count": 2,
   "id": "0a8599eb",
   "metadata": {},
   "outputs": [],
   "source": [
    "dataset=pd.read_csv(\"Placement_Data_Full_Class.csv\")"
   ]
  },
  {
   "cell_type": "code",
   "execution_count": 3,
   "id": "af7109e7",
   "metadata": {},
   "outputs": [
    {
     "data": {
      "text/html": [
       "<div>\n",
       "<style scoped>\n",
       "    .dataframe tbody tr th:only-of-type {\n",
       "        vertical-align: middle;\n",
       "    }\n",
       "\n",
       "    .dataframe tbody tr th {\n",
       "        vertical-align: top;\n",
       "    }\n",
       "\n",
       "    .dataframe thead th {\n",
       "        text-align: right;\n",
       "    }\n",
       "</style>\n",
       "<table border=\"1\" class=\"dataframe\">\n",
       "  <thead>\n",
       "    <tr style=\"text-align: right;\">\n",
       "      <th></th>\n",
       "      <th>sl_no</th>\n",
       "      <th>gender</th>\n",
       "      <th>ssc_p</th>\n",
       "      <th>ssc_b</th>\n",
       "      <th>hsc_p</th>\n",
       "      <th>hsc_b</th>\n",
       "      <th>hsc_s</th>\n",
       "      <th>degree_p</th>\n",
       "      <th>degree_t</th>\n",
       "      <th>workex</th>\n",
       "      <th>etest_p</th>\n",
       "      <th>specialisation</th>\n",
       "      <th>mba_p</th>\n",
       "      <th>status</th>\n",
       "      <th>salary</th>\n",
       "    </tr>\n",
       "  </thead>\n",
       "  <tbody>\n",
       "    <tr>\n",
       "      <th>0</th>\n",
       "      <td>1.0</td>\n",
       "      <td>M</td>\n",
       "      <td>67.00</td>\n",
       "      <td>Others</td>\n",
       "      <td>91.00</td>\n",
       "      <td>Others</td>\n",
       "      <td>Commerce</td>\n",
       "      <td>58.00</td>\n",
       "      <td>Sci&amp;Tech</td>\n",
       "      <td>No</td>\n",
       "      <td>55.0</td>\n",
       "      <td>Mkt&amp;HR</td>\n",
       "      <td>58.80</td>\n",
       "      <td>Placed</td>\n",
       "      <td>270000.0</td>\n",
       "    </tr>\n",
       "    <tr>\n",
       "      <th>1</th>\n",
       "      <td>2.0</td>\n",
       "      <td>M</td>\n",
       "      <td>79.33</td>\n",
       "      <td>Central</td>\n",
       "      <td>78.33</td>\n",
       "      <td>Others</td>\n",
       "      <td>Science</td>\n",
       "      <td>77.48</td>\n",
       "      <td>Sci&amp;Tech</td>\n",
       "      <td>Yes</td>\n",
       "      <td>86.5</td>\n",
       "      <td>Mkt&amp;Fin</td>\n",
       "      <td>66.28</td>\n",
       "      <td>Placed</td>\n",
       "      <td>200000.0</td>\n",
       "    </tr>\n",
       "    <tr>\n",
       "      <th>2</th>\n",
       "      <td>3.0</td>\n",
       "      <td>M</td>\n",
       "      <td>65.00</td>\n",
       "      <td>Central</td>\n",
       "      <td>68.00</td>\n",
       "      <td>Central</td>\n",
       "      <td>Arts</td>\n",
       "      <td>64.00</td>\n",
       "      <td>Comm&amp;Mgmt</td>\n",
       "      <td>No</td>\n",
       "      <td>75.0</td>\n",
       "      <td>Mkt&amp;Fin</td>\n",
       "      <td>57.80</td>\n",
       "      <td>Placed</td>\n",
       "      <td>250000.0</td>\n",
       "    </tr>\n",
       "    <tr>\n",
       "      <th>3</th>\n",
       "      <td>4.0</td>\n",
       "      <td>M</td>\n",
       "      <td>56.00</td>\n",
       "      <td>Central</td>\n",
       "      <td>52.00</td>\n",
       "      <td>Central</td>\n",
       "      <td>Science</td>\n",
       "      <td>52.00</td>\n",
       "      <td>Sci&amp;Tech</td>\n",
       "      <td>No</td>\n",
       "      <td>66.0</td>\n",
       "      <td>Mkt&amp;HR</td>\n",
       "      <td>59.43</td>\n",
       "      <td>Not Placed</td>\n",
       "      <td>NaN</td>\n",
       "    </tr>\n",
       "    <tr>\n",
       "      <th>4</th>\n",
       "      <td>5.0</td>\n",
       "      <td>M</td>\n",
       "      <td>85.80</td>\n",
       "      <td>Central</td>\n",
       "      <td>73.60</td>\n",
       "      <td>Central</td>\n",
       "      <td>Commerce</td>\n",
       "      <td>73.30</td>\n",
       "      <td>Comm&amp;Mgmt</td>\n",
       "      <td>No</td>\n",
       "      <td>96.8</td>\n",
       "      <td>Mkt&amp;Fin</td>\n",
       "      <td>55.50</td>\n",
       "      <td>Placed</td>\n",
       "      <td>425000.0</td>\n",
       "    </tr>\n",
       "    <tr>\n",
       "      <th>...</th>\n",
       "      <td>...</td>\n",
       "      <td>...</td>\n",
       "      <td>...</td>\n",
       "      <td>...</td>\n",
       "      <td>...</td>\n",
       "      <td>...</td>\n",
       "      <td>...</td>\n",
       "      <td>...</td>\n",
       "      <td>...</td>\n",
       "      <td>...</td>\n",
       "      <td>...</td>\n",
       "      <td>...</td>\n",
       "      <td>...</td>\n",
       "      <td>...</td>\n",
       "      <td>...</td>\n",
       "    </tr>\n",
       "    <tr>\n",
       "      <th>212</th>\n",
       "      <td>211.0</td>\n",
       "      <td>M</td>\n",
       "      <td>80.60</td>\n",
       "      <td>Others</td>\n",
       "      <td>82.00</td>\n",
       "      <td>Others</td>\n",
       "      <td>Commerce</td>\n",
       "      <td>77.60</td>\n",
       "      <td>Comm&amp;Mgmt</td>\n",
       "      <td>No</td>\n",
       "      <td>91.0</td>\n",
       "      <td>Mkt&amp;Fin</td>\n",
       "      <td>74.49</td>\n",
       "      <td>Placed</td>\n",
       "      <td>400000.0</td>\n",
       "    </tr>\n",
       "    <tr>\n",
       "      <th>213</th>\n",
       "      <td>212.0</td>\n",
       "      <td>M</td>\n",
       "      <td>58.00</td>\n",
       "      <td>Others</td>\n",
       "      <td>60.00</td>\n",
       "      <td>Others</td>\n",
       "      <td>Science</td>\n",
       "      <td>72.00</td>\n",
       "      <td>Sci&amp;Tech</td>\n",
       "      <td>No</td>\n",
       "      <td>74.0</td>\n",
       "      <td>Mkt&amp;Fin</td>\n",
       "      <td>53.62</td>\n",
       "      <td>Placed</td>\n",
       "      <td>275000.0</td>\n",
       "    </tr>\n",
       "    <tr>\n",
       "      <th>214</th>\n",
       "      <td>213.0</td>\n",
       "      <td>M</td>\n",
       "      <td>67.00</td>\n",
       "      <td>Others</td>\n",
       "      <td>67.00</td>\n",
       "      <td>Others</td>\n",
       "      <td>Commerce</td>\n",
       "      <td>73.00</td>\n",
       "      <td>Comm&amp;Mgmt</td>\n",
       "      <td>Yes</td>\n",
       "      <td>59.0</td>\n",
       "      <td>Mkt&amp;Fin</td>\n",
       "      <td>69.72</td>\n",
       "      <td>Placed</td>\n",
       "      <td>295000.0</td>\n",
       "    </tr>\n",
       "    <tr>\n",
       "      <th>215</th>\n",
       "      <td>214.0</td>\n",
       "      <td>F</td>\n",
       "      <td>74.00</td>\n",
       "      <td>Others</td>\n",
       "      <td>66.00</td>\n",
       "      <td>Others</td>\n",
       "      <td>Commerce</td>\n",
       "      <td>58.00</td>\n",
       "      <td>Comm&amp;Mgmt</td>\n",
       "      <td>No</td>\n",
       "      <td>70.0</td>\n",
       "      <td>Mkt&amp;HR</td>\n",
       "      <td>60.23</td>\n",
       "      <td>Placed</td>\n",
       "      <td>204000.0</td>\n",
       "    </tr>\n",
       "    <tr>\n",
       "      <th>216</th>\n",
       "      <td>215.0</td>\n",
       "      <td>M</td>\n",
       "      <td>62.00</td>\n",
       "      <td>Central</td>\n",
       "      <td>58.00</td>\n",
       "      <td>Others</td>\n",
       "      <td>Science</td>\n",
       "      <td>53.00</td>\n",
       "      <td>Comm&amp;Mgmt</td>\n",
       "      <td>No</td>\n",
       "      <td>89.0</td>\n",
       "      <td>Mkt&amp;HR</td>\n",
       "      <td>60.22</td>\n",
       "      <td>Not Placed</td>\n",
       "      <td>NaN</td>\n",
       "    </tr>\n",
       "  </tbody>\n",
       "</table>\n",
       "<p>217 rows × 15 columns</p>\n",
       "</div>"
      ],
      "text/plain": [
       "     sl_no gender  ssc_p    ssc_b  hsc_p    hsc_b     hsc_s  degree_p  \\\n",
       "0      1.0      M  67.00   Others  91.00   Others  Commerce     58.00   \n",
       "1      2.0      M  79.33  Central  78.33   Others   Science     77.48   \n",
       "2      3.0      M  65.00  Central  68.00  Central      Arts     64.00   \n",
       "3      4.0      M  56.00  Central  52.00  Central   Science     52.00   \n",
       "4      5.0      M  85.80  Central  73.60  Central  Commerce     73.30   \n",
       "..     ...    ...    ...      ...    ...      ...       ...       ...   \n",
       "212  211.0      M  80.60   Others  82.00   Others  Commerce     77.60   \n",
       "213  212.0      M  58.00   Others  60.00   Others   Science     72.00   \n",
       "214  213.0      M  67.00   Others  67.00   Others  Commerce     73.00   \n",
       "215  214.0      F  74.00   Others  66.00   Others  Commerce     58.00   \n",
       "216  215.0      M  62.00  Central  58.00   Others   Science     53.00   \n",
       "\n",
       "      degree_t workex  etest_p specialisation  mba_p      status    salary  \n",
       "0     Sci&Tech     No     55.0         Mkt&HR  58.80      Placed  270000.0  \n",
       "1     Sci&Tech    Yes     86.5        Mkt&Fin  66.28      Placed  200000.0  \n",
       "2    Comm&Mgmt     No     75.0        Mkt&Fin  57.80      Placed  250000.0  \n",
       "3     Sci&Tech     No     66.0         Mkt&HR  59.43  Not Placed       NaN  \n",
       "4    Comm&Mgmt     No     96.8        Mkt&Fin  55.50      Placed  425000.0  \n",
       "..         ...    ...      ...            ...    ...         ...       ...  \n",
       "212  Comm&Mgmt     No     91.0        Mkt&Fin  74.49      Placed  400000.0  \n",
       "213   Sci&Tech     No     74.0        Mkt&Fin  53.62      Placed  275000.0  \n",
       "214  Comm&Mgmt    Yes     59.0        Mkt&Fin  69.72      Placed  295000.0  \n",
       "215  Comm&Mgmt     No     70.0         Mkt&HR  60.23      Placed  204000.0  \n",
       "216  Comm&Mgmt     No     89.0         Mkt&HR  60.22  Not Placed       NaN  \n",
       "\n",
       "[217 rows x 15 columns]"
      ]
     },
     "execution_count": 3,
     "metadata": {},
     "output_type": "execute_result"
    }
   ],
   "source": [
    "dataset"
   ]
  },
  {
   "cell_type": "code",
   "execution_count": 4,
   "id": "fe16a6a8",
   "metadata": {},
   "outputs": [
    {
     "data": {
      "text/plain": [
       "sl_no              2\n",
       "gender             2\n",
       "ssc_p              2\n",
       "ssc_b              2\n",
       "hsc_p              2\n",
       "hsc_b              2\n",
       "hsc_s              2\n",
       "degree_p           2\n",
       "degree_t           2\n",
       "workex             2\n",
       "etest_p            2\n",
       "specialisation     2\n",
       "mba_p              2\n",
       "status             2\n",
       "salary            69\n",
       "dtype: int64"
      ]
     },
     "execution_count": 4,
     "metadata": {},
     "output_type": "execute_result"
    }
   ],
   "source": [
    "dataset.isnull().sum()"
   ]
  },
  {
   "cell_type": "code",
   "execution_count": 5,
   "id": "009ad5b2",
   "metadata": {},
   "outputs": [],
   "source": [
    "dataset.drop(\"sl_no\",inplace=True,axis=1)"
   ]
  },
  {
   "cell_type": "code",
   "execution_count": 6,
   "id": "6393be07",
   "metadata": {},
   "outputs": [
    {
     "data": {
      "text/plain": [
       "gender             2\n",
       "ssc_p              2\n",
       "ssc_b              2\n",
       "hsc_p              2\n",
       "hsc_b              2\n",
       "hsc_s              2\n",
       "degree_p           2\n",
       "degree_t           2\n",
       "workex             2\n",
       "etest_p            2\n",
       "specialisation     2\n",
       "mba_p              2\n",
       "status             2\n",
       "salary            69\n",
       "dtype: int64"
      ]
     },
     "execution_count": 6,
     "metadata": {},
     "output_type": "execute_result"
    }
   ],
   "source": [
    "dataset.isnull().sum()"
   ]
  },
  {
   "cell_type": "code",
   "execution_count": 7,
   "id": "b77a7e51",
   "metadata": {},
   "outputs": [],
   "source": [
    "from Univariate import Univariate"
   ]
  },
  {
   "cell_type": "code",
   "execution_count": 8,
   "id": "10cb354d",
   "metadata": {},
   "outputs": [],
   "source": [
    "quan,qual=Univariate.quanqual(dataset)"
   ]
  },
  {
   "cell_type": "code",
   "execution_count": 9,
   "id": "c235abf0",
   "metadata": {},
   "outputs": [
    {
     "data": {
      "text/plain": [
       "['gender',\n",
       " 'ssc_b',\n",
       " 'hsc_b',\n",
       " 'hsc_s',\n",
       " 'degree_t',\n",
       " 'workex',\n",
       " 'specialisation',\n",
       " 'status']"
      ]
     },
     "execution_count": 9,
     "metadata": {},
     "output_type": "execute_result"
    }
   ],
   "source": [
    "qual"
   ]
  },
  {
   "cell_type": "code",
   "execution_count": 10,
   "id": "ad3065ee",
   "metadata": {},
   "outputs": [],
   "source": [
    "import numpy as np\n",
    "from sklearn.impute import SimpleImputer\n",
    "imp = SimpleImputer(strategy=\"most_frequent\")\n",
    "df_qual=imp.fit_transform(dataset[qual])"
   ]
  },
  {
   "cell_type": "code",
   "execution_count": 11,
   "id": "0c1f99ef",
   "metadata": {},
   "outputs": [],
   "source": [
    "df_qual = pd.DataFrame(df_qual, columns=qual)"
   ]
  },
  {
   "cell_type": "code",
   "execution_count": 12,
   "id": "d8ebd23c",
   "metadata": {},
   "outputs": [],
   "source": [
    "dataset[qual]=df_qual"
   ]
  },
  {
   "cell_type": "code",
   "execution_count": 13,
   "id": "b9c5b9aa",
   "metadata": {},
   "outputs": [
    {
     "data": {
      "text/plain": [
       "gender             0\n",
       "ssc_p              2\n",
       "ssc_b              0\n",
       "hsc_p              2\n",
       "hsc_b              0\n",
       "hsc_s              0\n",
       "degree_p           2\n",
       "degree_t           0\n",
       "workex             0\n",
       "etest_p            2\n",
       "specialisation     0\n",
       "mba_p              2\n",
       "status             0\n",
       "salary            69\n",
       "dtype: int64"
      ]
     },
     "execution_count": 13,
     "metadata": {},
     "output_type": "execute_result"
    }
   ],
   "source": [
    "dataset.isnull().sum()"
   ]
  },
  {
   "cell_type": "code",
   "execution_count": 14,
   "id": "a7f828b4",
   "metadata": {},
   "outputs": [],
   "source": [
    "#replacing the nan values using simple imputer\n",
    "mean_column=[columnName for columnName in dataset[quan].columns if columnName!=\"salary\"]"
   ]
  },
  {
   "cell_type": "code",
   "execution_count": 15,
   "id": "b0a38c3c",
   "metadata": {},
   "outputs": [
    {
     "data": {
      "text/plain": [
       "['ssc_p', 'hsc_p', 'degree_p', 'etest_p', 'mba_p']"
      ]
     },
     "execution_count": 15,
     "metadata": {},
     "output_type": "execute_result"
    }
   ],
   "source": [
    "mean_column"
   ]
  },
  {
   "cell_type": "code",
   "execution_count": 16,
   "id": "72c3ca7d",
   "metadata": {},
   "outputs": [],
   "source": [
    "import numpy as np\n",
    "from sklearn.impute import SimpleImputer\n",
    "imp = SimpleImputer(missing_values=np.nan, strategy='mean')\n",
    "imp.fit(dataset[mean_column])\n",
    "df_quan=imp.transform(dataset[mean_column])"
   ]
  },
  {
   "cell_type": "code",
   "execution_count": 17,
   "id": "d3b1bfb3",
   "metadata": {},
   "outputs": [],
   "source": [
    "df_quan=pd.DataFrame(df_quan,columns=mean_column)"
   ]
  },
  {
   "cell_type": "code",
   "execution_count": 18,
   "id": "c96b68de",
   "metadata": {},
   "outputs": [],
   "source": [
    "dataset[mean_column]=df_quan"
   ]
  },
  {
   "cell_type": "code",
   "execution_count": 19,
   "id": "95e0a299",
   "metadata": {},
   "outputs": [],
   "source": [
    "#Replacing the salary column with median\n",
    "dataset[\"salary\"].fillna(dataset[\"salary\"].median(),inplace=True)"
   ]
  },
  {
   "cell_type": "code",
   "execution_count": 20,
   "id": "bea3c766",
   "metadata": {},
   "outputs": [
    {
     "data": {
      "text/html": [
       "<div>\n",
       "<style scoped>\n",
       "    .dataframe tbody tr th:only-of-type {\n",
       "        vertical-align: middle;\n",
       "    }\n",
       "\n",
       "    .dataframe tbody tr th {\n",
       "        vertical-align: top;\n",
       "    }\n",
       "\n",
       "    .dataframe thead th {\n",
       "        text-align: right;\n",
       "    }\n",
       "</style>\n",
       "<table border=\"1\" class=\"dataframe\">\n",
       "  <thead>\n",
       "    <tr style=\"text-align: right;\">\n",
       "      <th></th>\n",
       "      <th>gender</th>\n",
       "      <th>ssc_p</th>\n",
       "      <th>ssc_b</th>\n",
       "      <th>hsc_p</th>\n",
       "      <th>hsc_b</th>\n",
       "      <th>hsc_s</th>\n",
       "      <th>degree_p</th>\n",
       "      <th>degree_t</th>\n",
       "      <th>workex</th>\n",
       "      <th>etest_p</th>\n",
       "      <th>specialisation</th>\n",
       "      <th>mba_p</th>\n",
       "      <th>status</th>\n",
       "      <th>salary</th>\n",
       "    </tr>\n",
       "  </thead>\n",
       "  <tbody>\n",
       "    <tr>\n",
       "      <th>0</th>\n",
       "      <td>M</td>\n",
       "      <td>67.00</td>\n",
       "      <td>Others</td>\n",
       "      <td>91.00</td>\n",
       "      <td>Others</td>\n",
       "      <td>Commerce</td>\n",
       "      <td>58.00</td>\n",
       "      <td>Sci&amp;Tech</td>\n",
       "      <td>No</td>\n",
       "      <td>55.0</td>\n",
       "      <td>Mkt&amp;HR</td>\n",
       "      <td>58.80</td>\n",
       "      <td>Placed</td>\n",
       "      <td>270000.0</td>\n",
       "    </tr>\n",
       "    <tr>\n",
       "      <th>1</th>\n",
       "      <td>M</td>\n",
       "      <td>79.33</td>\n",
       "      <td>Central</td>\n",
       "      <td>78.33</td>\n",
       "      <td>Others</td>\n",
       "      <td>Science</td>\n",
       "      <td>77.48</td>\n",
       "      <td>Sci&amp;Tech</td>\n",
       "      <td>Yes</td>\n",
       "      <td>86.5</td>\n",
       "      <td>Mkt&amp;Fin</td>\n",
       "      <td>66.28</td>\n",
       "      <td>Placed</td>\n",
       "      <td>200000.0</td>\n",
       "    </tr>\n",
       "    <tr>\n",
       "      <th>2</th>\n",
       "      <td>M</td>\n",
       "      <td>65.00</td>\n",
       "      <td>Central</td>\n",
       "      <td>68.00</td>\n",
       "      <td>Central</td>\n",
       "      <td>Arts</td>\n",
       "      <td>64.00</td>\n",
       "      <td>Comm&amp;Mgmt</td>\n",
       "      <td>No</td>\n",
       "      <td>75.0</td>\n",
       "      <td>Mkt&amp;Fin</td>\n",
       "      <td>57.80</td>\n",
       "      <td>Placed</td>\n",
       "      <td>250000.0</td>\n",
       "    </tr>\n",
       "    <tr>\n",
       "      <th>3</th>\n",
       "      <td>M</td>\n",
       "      <td>56.00</td>\n",
       "      <td>Central</td>\n",
       "      <td>52.00</td>\n",
       "      <td>Central</td>\n",
       "      <td>Science</td>\n",
       "      <td>52.00</td>\n",
       "      <td>Sci&amp;Tech</td>\n",
       "      <td>No</td>\n",
       "      <td>66.0</td>\n",
       "      <td>Mkt&amp;HR</td>\n",
       "      <td>59.43</td>\n",
       "      <td>Not Placed</td>\n",
       "      <td>265000.0</td>\n",
       "    </tr>\n",
       "    <tr>\n",
       "      <th>4</th>\n",
       "      <td>M</td>\n",
       "      <td>85.80</td>\n",
       "      <td>Central</td>\n",
       "      <td>73.60</td>\n",
       "      <td>Central</td>\n",
       "      <td>Commerce</td>\n",
       "      <td>73.30</td>\n",
       "      <td>Comm&amp;Mgmt</td>\n",
       "      <td>No</td>\n",
       "      <td>96.8</td>\n",
       "      <td>Mkt&amp;Fin</td>\n",
       "      <td>55.50</td>\n",
       "      <td>Placed</td>\n",
       "      <td>425000.0</td>\n",
       "    </tr>\n",
       "    <tr>\n",
       "      <th>...</th>\n",
       "      <td>...</td>\n",
       "      <td>...</td>\n",
       "      <td>...</td>\n",
       "      <td>...</td>\n",
       "      <td>...</td>\n",
       "      <td>...</td>\n",
       "      <td>...</td>\n",
       "      <td>...</td>\n",
       "      <td>...</td>\n",
       "      <td>...</td>\n",
       "      <td>...</td>\n",
       "      <td>...</td>\n",
       "      <td>...</td>\n",
       "      <td>...</td>\n",
       "    </tr>\n",
       "    <tr>\n",
       "      <th>212</th>\n",
       "      <td>M</td>\n",
       "      <td>80.60</td>\n",
       "      <td>Others</td>\n",
       "      <td>82.00</td>\n",
       "      <td>Others</td>\n",
       "      <td>Commerce</td>\n",
       "      <td>77.60</td>\n",
       "      <td>Comm&amp;Mgmt</td>\n",
       "      <td>No</td>\n",
       "      <td>91.0</td>\n",
       "      <td>Mkt&amp;Fin</td>\n",
       "      <td>74.49</td>\n",
       "      <td>Placed</td>\n",
       "      <td>400000.0</td>\n",
       "    </tr>\n",
       "    <tr>\n",
       "      <th>213</th>\n",
       "      <td>M</td>\n",
       "      <td>58.00</td>\n",
       "      <td>Others</td>\n",
       "      <td>60.00</td>\n",
       "      <td>Others</td>\n",
       "      <td>Science</td>\n",
       "      <td>72.00</td>\n",
       "      <td>Sci&amp;Tech</td>\n",
       "      <td>No</td>\n",
       "      <td>74.0</td>\n",
       "      <td>Mkt&amp;Fin</td>\n",
       "      <td>53.62</td>\n",
       "      <td>Placed</td>\n",
       "      <td>275000.0</td>\n",
       "    </tr>\n",
       "    <tr>\n",
       "      <th>214</th>\n",
       "      <td>M</td>\n",
       "      <td>67.00</td>\n",
       "      <td>Others</td>\n",
       "      <td>67.00</td>\n",
       "      <td>Others</td>\n",
       "      <td>Commerce</td>\n",
       "      <td>73.00</td>\n",
       "      <td>Comm&amp;Mgmt</td>\n",
       "      <td>Yes</td>\n",
       "      <td>59.0</td>\n",
       "      <td>Mkt&amp;Fin</td>\n",
       "      <td>69.72</td>\n",
       "      <td>Placed</td>\n",
       "      <td>295000.0</td>\n",
       "    </tr>\n",
       "    <tr>\n",
       "      <th>215</th>\n",
       "      <td>F</td>\n",
       "      <td>74.00</td>\n",
       "      <td>Others</td>\n",
       "      <td>66.00</td>\n",
       "      <td>Others</td>\n",
       "      <td>Commerce</td>\n",
       "      <td>58.00</td>\n",
       "      <td>Comm&amp;Mgmt</td>\n",
       "      <td>No</td>\n",
       "      <td>70.0</td>\n",
       "      <td>Mkt&amp;HR</td>\n",
       "      <td>60.23</td>\n",
       "      <td>Placed</td>\n",
       "      <td>204000.0</td>\n",
       "    </tr>\n",
       "    <tr>\n",
       "      <th>216</th>\n",
       "      <td>M</td>\n",
       "      <td>62.00</td>\n",
       "      <td>Central</td>\n",
       "      <td>58.00</td>\n",
       "      <td>Others</td>\n",
       "      <td>Science</td>\n",
       "      <td>53.00</td>\n",
       "      <td>Comm&amp;Mgmt</td>\n",
       "      <td>No</td>\n",
       "      <td>89.0</td>\n",
       "      <td>Mkt&amp;HR</td>\n",
       "      <td>60.22</td>\n",
       "      <td>Not Placed</td>\n",
       "      <td>265000.0</td>\n",
       "    </tr>\n",
       "  </tbody>\n",
       "</table>\n",
       "<p>217 rows × 14 columns</p>\n",
       "</div>"
      ],
      "text/plain": [
       "    gender  ssc_p    ssc_b  hsc_p    hsc_b     hsc_s  degree_p   degree_t  \\\n",
       "0        M  67.00   Others  91.00   Others  Commerce     58.00   Sci&Tech   \n",
       "1        M  79.33  Central  78.33   Others   Science     77.48   Sci&Tech   \n",
       "2        M  65.00  Central  68.00  Central      Arts     64.00  Comm&Mgmt   \n",
       "3        M  56.00  Central  52.00  Central   Science     52.00   Sci&Tech   \n",
       "4        M  85.80  Central  73.60  Central  Commerce     73.30  Comm&Mgmt   \n",
       "..     ...    ...      ...    ...      ...       ...       ...        ...   \n",
       "212      M  80.60   Others  82.00   Others  Commerce     77.60  Comm&Mgmt   \n",
       "213      M  58.00   Others  60.00   Others   Science     72.00   Sci&Tech   \n",
       "214      M  67.00   Others  67.00   Others  Commerce     73.00  Comm&Mgmt   \n",
       "215      F  74.00   Others  66.00   Others  Commerce     58.00  Comm&Mgmt   \n",
       "216      M  62.00  Central  58.00   Others   Science     53.00  Comm&Mgmt   \n",
       "\n",
       "    workex  etest_p specialisation  mba_p      status    salary  \n",
       "0       No     55.0         Mkt&HR  58.80      Placed  270000.0  \n",
       "1      Yes     86.5        Mkt&Fin  66.28      Placed  200000.0  \n",
       "2       No     75.0        Mkt&Fin  57.80      Placed  250000.0  \n",
       "3       No     66.0         Mkt&HR  59.43  Not Placed  265000.0  \n",
       "4       No     96.8        Mkt&Fin  55.50      Placed  425000.0  \n",
       "..     ...      ...            ...    ...         ...       ...  \n",
       "212     No     91.0        Mkt&Fin  74.49      Placed  400000.0  \n",
       "213     No     74.0        Mkt&Fin  53.62      Placed  275000.0  \n",
       "214    Yes     59.0        Mkt&Fin  69.72      Placed  295000.0  \n",
       "215     No     70.0         Mkt&HR  60.23      Placed  204000.0  \n",
       "216     No     89.0         Mkt&HR  60.22  Not Placed  265000.0  \n",
       "\n",
       "[217 rows x 14 columns]"
      ]
     },
     "execution_count": 20,
     "metadata": {},
     "output_type": "execute_result"
    }
   ],
   "source": [
    "#pereprocessed dataset\n",
    "dataset"
   ]
  },
  {
   "cell_type": "code",
   "execution_count": 21,
   "id": "c15e7f07",
   "metadata": {},
   "outputs": [
    {
     "data": {
      "text/plain": [
       "gender            0\n",
       "ssc_p             0\n",
       "ssc_b             0\n",
       "hsc_p             0\n",
       "hsc_b             0\n",
       "hsc_s             0\n",
       "degree_p          0\n",
       "degree_t          0\n",
       "workex            0\n",
       "etest_p           0\n",
       "specialisation    0\n",
       "mba_p             0\n",
       "status            0\n",
       "salary            0\n",
       "dtype: int64"
      ]
     },
     "execution_count": 21,
     "metadata": {},
     "output_type": "execute_result"
    }
   ],
   "source": [
    "dataset.isnull().sum()"
   ]
  },
  {
   "cell_type": "markdown",
   "id": "473bc337",
   "metadata": {},
   "source": [
    "Not placed"
   ]
  },
  {
   "cell_type": "code",
   "execution_count": 22,
   "id": "edaf29c6",
   "metadata": {},
   "outputs": [],
   "source": [
    "not_placed=(dataset[\"status\"]==\"Not Placed\").sum()"
   ]
  },
  {
   "cell_type": "code",
   "execution_count": 23,
   "id": "9135fc7e",
   "metadata": {},
   "outputs": [
    {
     "name": "stdout",
     "output_type": "stream",
     "text": [
      "The Number of Students Not Placed:67\n"
     ]
    }
   ],
   "source": [
    "print(f\"The Number of Students Not Placed:{not_placed}\")"
   ]
  },
  {
   "cell_type": "markdown",
   "id": "5899dc51",
   "metadata": {},
   "source": [
    " Reason for non placement from the dataset"
   ]
  },
  {
   "cell_type": "code",
   "execution_count": 24,
   "id": "5af4c382",
   "metadata": {},
   "outputs": [
    {
     "data": {
      "text/plain": [
       "Placed        150\n",
       "Not Placed     67\n",
       "Name: status, dtype: int64"
      ]
     },
     "execution_count": 24,
     "metadata": {},
     "output_type": "execute_result"
    }
   ],
   "source": [
    "dataset[\"status\"].value_counts()"
   ]
  },
  {
   "cell_type": "code",
   "execution_count": 25,
   "id": "8e60cc85",
   "metadata": {},
   "outputs": [
    {
     "name": "stdout",
     "output_type": "stream",
     "text": [
      "M    39\n",
      "F    28\n",
      "Name: gender, dtype: int64\n",
      "Central    38\n",
      "Others     29\n",
      "Name: ssc_b, dtype: int64\n",
      "Others     40\n",
      "Central    27\n",
      "Name: hsc_b, dtype: int64\n",
      "Commerce    34\n",
      "Science     28\n",
      "Arts         5\n",
      "Name: hsc_s, dtype: int64\n",
      "Comm&Mgmt    43\n",
      "Sci&Tech     18\n",
      "Others        6\n",
      "Name: degree_t, dtype: int64\n",
      "No     57\n",
      "Yes    10\n",
      "Name: workex, dtype: int64\n",
      "Mkt&HR     42\n",
      "Mkt&Fin    25\n",
      "Name: specialisation, dtype: int64\n",
      "Not Placed    67\n",
      "Name: status, dtype: int64\n"
     ]
    }
   ],
   "source": [
    "for columnName in qual:\n",
    "    value_count=dataset[dataset[\"status\"] == \"Not Placed\"][columnName].value_counts()\n",
    "    print(value_count)"
   ]
  },
  {
   "cell_type": "code",
   "execution_count": 26,
   "id": "03f960f7",
   "metadata": {},
   "outputs": [],
   "source": [
    "#While comparing,\n",
    "#gender more males(39) are not placed\n",
    "#ssc_b more central board(38) students are not placed\n",
    "#hsc_b more other board(40) students are not placed\n",
    "#hsc_s more Commerce(34) students are not placed\n",
    "#degree more Comm&Mgmt(43) students are not placed\n",
    "#workex(57) have no work experience\n",
    "#specialisation more Mkt&HR(42) students are not placed\n",
    "#from this majority of students don't have work experience are not placed."
   ]
  },
  {
   "cell_type": "code",
   "execution_count": 27,
   "id": "4e8e4ec3",
   "metadata": {},
   "outputs": [
    {
     "data": {
      "text/html": [
       "<div>\n",
       "<style scoped>\n",
       "    .dataframe tbody tr th:only-of-type {\n",
       "        vertical-align: middle;\n",
       "    }\n",
       "\n",
       "    .dataframe tbody tr th {\n",
       "        vertical-align: top;\n",
       "    }\n",
       "\n",
       "    .dataframe thead th {\n",
       "        text-align: right;\n",
       "    }\n",
       "</style>\n",
       "<table border=\"1\" class=\"dataframe\">\n",
       "  <thead>\n",
       "    <tr style=\"text-align: right;\">\n",
       "      <th></th>\n",
       "      <th>ssc_p</th>\n",
       "      <th>hsc_p</th>\n",
       "      <th>degree_p</th>\n",
       "      <th>etest_p</th>\n",
       "      <th>mba_p</th>\n",
       "      <th>salary</th>\n",
       "    </tr>\n",
       "  </thead>\n",
       "  <tbody>\n",
       "    <tr>\n",
       "      <th>ssc_p</th>\n",
       "      <td>1.000000</td>\n",
       "      <td>0.511472</td>\n",
       "      <td>0.538404</td>\n",
       "      <td>0.261993</td>\n",
       "      <td>0.388478</td>\n",
       "      <td>0.108647</td>\n",
       "    </tr>\n",
       "    <tr>\n",
       "      <th>hsc_p</th>\n",
       "      <td>0.511472</td>\n",
       "      <td>1.000000</td>\n",
       "      <td>0.434206</td>\n",
       "      <td>0.245113</td>\n",
       "      <td>0.354823</td>\n",
       "      <td>0.122897</td>\n",
       "    </tr>\n",
       "    <tr>\n",
       "      <th>degree_p</th>\n",
       "      <td>0.538404</td>\n",
       "      <td>0.434206</td>\n",
       "      <td>1.000000</td>\n",
       "      <td>0.224470</td>\n",
       "      <td>0.402364</td>\n",
       "      <td>0.053341</td>\n",
       "    </tr>\n",
       "    <tr>\n",
       "      <th>etest_p</th>\n",
       "      <td>0.261993</td>\n",
       "      <td>0.245113</td>\n",
       "      <td>0.224470</td>\n",
       "      <td>1.000000</td>\n",
       "      <td>0.218055</td>\n",
       "      <td>0.169199</td>\n",
       "    </tr>\n",
       "    <tr>\n",
       "      <th>mba_p</th>\n",
       "      <td>0.388478</td>\n",
       "      <td>0.354823</td>\n",
       "      <td>0.402364</td>\n",
       "      <td>0.218055</td>\n",
       "      <td>1.000000</td>\n",
       "      <td>0.155642</td>\n",
       "    </tr>\n",
       "    <tr>\n",
       "      <th>salary</th>\n",
       "      <td>0.108647</td>\n",
       "      <td>0.122897</td>\n",
       "      <td>0.053341</td>\n",
       "      <td>0.169199</td>\n",
       "      <td>0.155642</td>\n",
       "      <td>1.000000</td>\n",
       "    </tr>\n",
       "  </tbody>\n",
       "</table>\n",
       "</div>"
      ],
      "text/plain": [
       "             ssc_p     hsc_p  degree_p   etest_p     mba_p    salary\n",
       "ssc_p     1.000000  0.511472  0.538404  0.261993  0.388478  0.108647\n",
       "hsc_p     0.511472  1.000000  0.434206  0.245113  0.354823  0.122897\n",
       "degree_p  0.538404  0.434206  1.000000  0.224470  0.402364  0.053341\n",
       "etest_p   0.261993  0.245113  0.224470  1.000000  0.218055  0.169199\n",
       "mba_p     0.388478  0.354823  0.402364  0.218055  1.000000  0.155642\n",
       "salary    0.108647  0.122897  0.053341  0.169199  0.155642  1.000000"
      ]
     },
     "execution_count": 27,
     "metadata": {},
     "output_type": "execute_result"
    }
   ],
   "source": [
    "dataset.corr()"
   ]
  },
  {
   "cell_type": "code",
   "execution_count": 28,
   "id": "f21bada1",
   "metadata": {},
   "outputs": [],
   "source": [
    "#The relation between salary and mba_p(0.146324) is a low degree of positive correlation"
   ]
  },
  {
   "cell_type": "code",
   "execution_count": 29,
   "id": "c039a61e",
   "metadata": {},
   "outputs": [],
   "source": [
    "minimum_salary=dataset[\"salary\"].min()"
   ]
  },
  {
   "cell_type": "code",
   "execution_count": 30,
   "id": "627eaf51",
   "metadata": {},
   "outputs": [],
   "source": [
    "min_salary_rows=dataset[dataset[\"salary\"]==minimum_salary]"
   ]
  },
  {
   "cell_type": "code",
   "execution_count": 31,
   "id": "dc738785",
   "metadata": {},
   "outputs": [
    {
     "name": "stdout",
     "output_type": "stream",
     "text": [
      "1      Mkt&Fin\n",
      "17     Mkt&Fin\n",
      "46     Mkt&Fin\n",
      "52      Mkt&HR\n",
      "109     Mkt&HR\n",
      "137     Mkt&HR\n",
      "Name: specialisation, dtype: object\n"
     ]
    }
   ],
   "source": [
    "print(min_salary_rows[\"specialisation\"])"
   ]
  },
  {
   "cell_type": "code",
   "execution_count": 32,
   "id": "335cd069",
   "metadata": {},
   "outputs": [],
   "source": [
    "#Mkt&Fin and Mkt&HR are getting minimum salary "
   ]
  },
  {
   "cell_type": "code",
   "execution_count": 33,
   "id": "5a26a39e",
   "metadata": {},
   "outputs": [],
   "source": [
    "higher_salary=(dataset[\"salary\"]>500000).sum()"
   ]
  },
  {
   "cell_type": "code",
   "execution_count": 34,
   "id": "47da9393",
   "metadata": {},
   "outputs": [
    {
     "name": "stdout",
     "output_type": "stream",
     "text": [
      "Number of students getting above 500000 salary: 3\n"
     ]
    }
   ],
   "source": [
    "print(f\"Number of students getting above 500000 salary: {higher_salary}\")"
   ]
  },
  {
   "cell_type": "code",
   "execution_count": 35,
   "id": "c31f8140",
   "metadata": {},
   "outputs": [
    {
     "data": {
      "text/plain": [
       "F_onewayResult(statistic=100.49298790500407, pvalue=2.101472592739362e-21)"
      ]
     },
     "execution_count": 35,
     "metadata": {},
     "output_type": "execute_result"
    }
   ],
   "source": [
    "import scipy.stats as stats\n",
    "stats.f_oneway(dataset[\"etest_p\"],dataset[\"mba_p\"])"
   ]
  },
  {
   "cell_type": "code",
   "execution_count": 36,
   "id": "fbc1c7f6",
   "metadata": {},
   "outputs": [],
   "source": [
    "#The p-value is less than 0.05.\n",
    "#Accepts Alternate Hypothesis and Rejects Null Hypothesis.\n",
    "#There is a significant difference between means of etest_p and mba_p."
   ]
  },
  {
   "cell_type": "code",
   "execution_count": 37,
   "id": "80acac9c",
   "metadata": {},
   "outputs": [
    {
     "data": {
      "text/plain": [
       "Ttest_indResult(statistic=3.053005553314895, pvalue=0.0026752836979138848)"
      ]
     },
     "execution_count": 37,
     "metadata": {},
     "output_type": "execute_result"
    }
   ],
   "source": [
    "from scipy.stats import ttest_ind\n",
    "degree=dataset[dataset[\"degree_t\"]==\"Sci&Tech\"][\"salary\"]\n",
    "special=dataset[dataset[\"specialisation\"]==\"Mkt&HR\"][\"salary\"]\n",
    "ttest_ind(degree,special)"
   ]
  },
  {
   "cell_type": "code",
   "execution_count": 38,
   "id": "e91d6092",
   "metadata": {},
   "outputs": [],
   "source": [
    "#The p-value is less than 0.05.\n",
    "#Rejects Null Hypothesis and Accepts Alternate Hypothesis.\n",
    "#There is a significant difference between degree_t(sci&tech) and specialisation(Mkt&HR) with respect to salary."
   ]
  },
  {
   "cell_type": "code",
   "execution_count": 39,
   "id": "575624ae",
   "metadata": {},
   "outputs": [
    {
     "name": "stderr",
     "output_type": "stream",
     "text": [
      "C:\\Anaconda3\\envs\\aiml\\lib\\site-packages\\ipykernel_launcher.py:2: UserWarning: \n",
      "\n",
      "`distplot` is a deprecated function and will be removed in seaborn v0.14.0.\n",
      "\n",
      "Please adapt your code to use either `displot` (a figure-level function with\n",
      "similar flexibility) or `histplot` (an axes-level function for histograms).\n",
      "\n",
      "For a guide to updating your code to use the new functions, please see\n",
      "https://gist.github.com/mwaskom/de44147ed2974457ad6372750bbe5751\n",
      "\n",
      "  \n"
     ]
    },
    {
     "data": {
      "text/plain": [
       "<matplotlib.axes._subplots.AxesSubplot at 0x1091aa1b278>"
      ]
     },
     "execution_count": 39,
     "metadata": {},
     "output_type": "execute_result"
    },
    {
     "data": {
      "image/png": "[encoded data removed]",
      "text/plain": [
       "<Figure size 640x480 with 1 Axes>"
      ]
     },
     "metadata": {},
     "output_type": "display_data"
    }
   ],
   "source": [
    "import seaborn as sns\n",
    "sns.distplot(dataset[\"salary\"])"
   ]
  },
  {
   "cell_type": "code",
   "execution_count": 40,
   "id": "d185455c",
   "metadata": {},
   "outputs": [],
   "source": [
    "def stdNBgraph(dataset):\n",
    "    import seaborn as sns\n",
    "    mean=dataset.mean()\n",
    "    std=dataset.std()\n",
    "    values=[i for i in dataset]\n",
    "    z_score=[((j-mean)/std) for j in values]\n",
    "    sns.distplot(z_score,kde=True)\n",
    "    sum(z_score)/len(z_score)\n",
    "    print(\"Mean of Z-scores:\", sum(z_score)/len(z_score))"
   ]
  },
  {
   "cell_type": "code",
   "execution_count": 41,
   "id": "ce895e5d",
   "metadata": {},
   "outputs": [
    {
     "name": "stderr",
     "output_type": "stream",
     "text": [
      "C:\\Anaconda3\\envs\\aiml\\lib\\site-packages\\ipykernel_launcher.py:7: UserWarning: \n",
      "\n",
      "`distplot` is a deprecated function and will be removed in seaborn v0.14.0.\n",
      "\n",
      "Please adapt your code to use either `displot` (a figure-level function with\n",
      "similar flexibility) or `histplot` (an axes-level function for histograms).\n",
      "\n",
      "For a guide to updating your code to use the new functions, please see\n",
      "https://gist.github.com/mwaskom/de44147ed2974457ad6372750bbe5751\n",
      "\n",
      "  import sys\n"
     ]
    },
    {
     "name": "stdout",
     "output_type": "stream",
     "text": [
      "Mean of Z-scores: 2.4609091006668217e-16\n"
     ]
    },
    {
     "data": {
      "image/png": "[encoded data removed]",
      "text/plain": [
       "<Figure size 640x480 with 1 Axes>"
      ]
     },
     "metadata": {},
     "output_type": "display_data"
    }
   ],
   "source": [
    "stdNBgraph(dataset[\"salary\"])"
   ]
  },
  {
   "cell_type": "code",
   "execution_count": 42,
   "id": "e0c95c24",
   "metadata": {},
   "outputs": [],
   "source": [
    "def get_pdf_probability(dataset,startrange,endrange):\n",
    "    from matplotlib import pyplot\n",
    "    from scipy.stats import norm\n",
    "    import seaborn as sns\n",
    "    ax = sns.distplot(dataset,kde=True,kde_kws={'color':'blue'},color='Green')\n",
    "    pyplot.axvline(startrange,color='Red')\n",
    "    pyplot.axvline(endrange,color='Red')\n",
    "    # generate a sample\n",
    "    sample = dataset\n",
    "    # calculate parameters\n",
    "    sample_mean =sample.mean()\n",
    "    sample_std = sample.std()\n",
    "    print('Mean=%.3f, Standard Deviation=%.3f' % (sample_mean, sample_std))\n",
    "    # define the distribution\n",
    "    dist = norm(sample_mean, sample_std)\n",
    "    \n",
    "    # sample probabilities for a range of outcomes\n",
    "    values = [value for value in range(startrange, endrange)]\n",
    "    probabilities = [dist.pdf(value) for value in values]    \n",
    "    prob=sum(probabilities)\n",
    "    print(\"The area between range({},{}):{}\".format(startrange,endrange,sum(probabilities)))\n",
    "    return prob\n",
    "    "
   ]
  },
  {
   "cell_type": "code",
   "execution_count": 43,
   "id": "5d77e687",
   "metadata": {
    "scrolled": true
   },
   "outputs": [
    {
     "name": "stderr",
     "output_type": "stream",
     "text": [
      "C:\\Anaconda3\\envs\\aiml\\lib\\site-packages\\ipykernel_launcher.py:5: UserWarning: \n",
      "\n",
      "`distplot` is a deprecated function and will be removed in seaborn v0.14.0.\n",
      "\n",
      "Please adapt your code to use either `displot` (a figure-level function with\n",
      "similar flexibility) or `histplot` (an axes-level function for histograms).\n",
      "\n",
      "For a guide to updating your code to use the new functions, please see\n",
      "https://gist.github.com/mwaskom/de44147ed2974457ad6372750bbe5751\n",
      "\n",
      "  \"\"\"\n"
     ]
    },
    {
     "name": "stdout",
     "output_type": "stream",
     "text": [
      "Mean=281133.641, Standard Deviation=77885.098\n",
      "The area between range(700000,900000):3.765944234744937e-08\n"
     ]
    },
    {
     "data": {
      "text/plain": [
       "3.765944234744937e-08"
      ]
     },
     "execution_count": 43,
     "metadata": {},
     "output_type": "execute_result"
    },
    {
     "data": {
      "image/png": "[encoded data removed]",
      "text/plain": [
       "<Figure size 640x480 with 1 Axes>"
      ]
     },
     "metadata": {},
     "output_type": "display_data"
    }
   ],
   "source": [
    "get_pdf_probability(dataset[\"salary\"],700000,900000)"
   ]
  },
  {
   "cell_type": "code",
   "execution_count": 47,
   "id": "696aa54f",
   "metadata": {},
   "outputs": [
    {
     "data": {
      "text/plain": [
       "Ttest_relResult(statistic=5.0049844583693615, pvalue=5.517920600505392e-06)"
      ]
     },
     "execution_count": 47,
     "metadata": {},
     "output_type": "execute_result"
    }
   ],
   "source": [
    "from scipy.stats import ttest_rel\n",
    "specialisation=dataset[dataset[\"degree_t\"]==\"Sci&Tech\"][\"etest_p\"]\n",
    "specialisation1=dataset[dataset[\"degree_t\"]==\"Sci&Tech\"][\"mba_p\"]\n",
    "ttest_rel(specialisation,specialisation1)"
   ]
  },
  {
   "cell_type": "code",
   "execution_count": 48,
   "id": "36989bb7",
   "metadata": {},
   "outputs": [],
   "source": [
    "#The p-value is less than 0.05.\n",
    "#Accepts Alternate Hypothesis and Rejects Null Hypothesis.\n",
    "#There is a significant difference between degree_t(Sci&Tech) with respect to etest_p and mba_p "
   ]
  },
  {
   "cell_type": "code",
   "execution_count": 44,
   "id": "d6637afb",
   "metadata": {},
   "outputs": [
    {
     "data": {
      "text/plain": [
       "ssc_p       0.108647\n",
       "hsc_p       0.122897\n",
       "degree_p    0.053341\n",
       "etest_p     0.169199\n",
       "mba_p       0.155642\n",
       "salary      1.000000\n",
       "Name: salary, dtype: float64"
      ]
     },
     "execution_count": 44,
     "metadata": {},
     "output_type": "execute_result"
    }
   ],
   "source": [
    "dataset.corr()[\"salary\"]#salary is highly correlated to etest_p"
   ]
  },
  {
   "cell_type": "code",
   "execution_count": null,
   "id": "fc2aac47",
   "metadata": {},
   "outputs": [],
   "source": []
  }
 ],
 "metadata": {
  "kernelspec": {
   "display_name": "Python 3 (ipykernel)",
   "language": "python",
   "name": "python3"
  },
  "language_info": {
   "codemirror_mode": {
    "name": "ipython",
    "version": 3
   },
   "file_extension": ".py",
   "mimetype": "text/x-python",
   "name": "python",
   "nbconvert_exporter": "python",
   "pygments_lexer": "ipython3",
   "version": "3.7.1"
  }
 },
 "nbformat": 4,
 "nbformat_minor": 5
}
